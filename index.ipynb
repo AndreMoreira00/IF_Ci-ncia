{
 "cells": [
  {
   "cell_type": "markdown",
   "metadata": {},
   "source": [
    "# IF Ciência"
   ]
  },
  {
   "cell_type": "markdown",
   "metadata": {},
   "source": [
    "## Bibliotecas instaladas"
   ]
  },
  {
   "cell_type": "code",
   "execution_count": 50,
   "metadata": {},
   "outputs": [
    {
     "name": "stderr",
     "output_type": "stream",
     "text": [
      "WARNING: Ignoring invalid distribution -lotly (c:\\users\\andre\\appdata\\local\\programs\\python\\python39\\lib\\site-packages)\n",
      "WARNING: Ignoring invalid distribution -lotly (c:\\users\\andre\\appdata\\local\\programs\\python\\python39\\lib\\site-packages)\n",
      "\n",
      "[notice] A new release of pip is available: 24.0 -> 24.2\n",
      "[notice] To update, run: python.exe -m pip install --upgrade pip\n"
     ]
    },
    {
     "name": "stdout",
     "output_type": "stream",
     "text": [
      "Requirement already satisfied: python-dotenv in c:\\users\\andre\\appdata\\local\\programs\\python\\python39\\lib\\site-packages (1.0.1)\n"
     ]
    },
    {
     "name": "stderr",
     "output_type": "stream",
     "text": [
      "WARNING: Ignoring invalid distribution -lotly (c:\\users\\andre\\appdata\\local\\programs\\python\\python39\\lib\\site-packages)\n",
      "WARNING: Ignoring invalid distribution -lotly (c:\\users\\andre\\appdata\\local\\programs\\python\\python39\\lib\\site-packages)\n",
      "\n",
      "[notice] A new release of pip is available: 24.0 -> 24.2\n",
      "[notice] To update, run: python.exe -m pip install --upgrade pip\n"
     ]
    },
    {
     "name": "stdout",
     "output_type": "stream",
     "text": [
      "Requirement already satisfied: replicate in c:\\users\\andre\\appdata\\local\\programs\\python\\python39\\lib\\site-packages (0.31.0)\n",
      "Requirement already satisfied: httpx<1,>=0.21.0 in c:\\users\\andre\\appdata\\local\\programs\\python\\python39\\lib\\site-packages (from replicate) (0.26.0)\n",
      "Requirement already satisfied: packaging in c:\\users\\andre\\appdata\\local\\programs\\python\\python39\\lib\\site-packages (from replicate) (23.1)\n",
      "Requirement already satisfied: pydantic>1.10.7 in c:\\users\\andre\\appdata\\local\\programs\\python\\python39\\lib\\site-packages (from replicate) (2.8.2)\n",
      "Requirement already satisfied: typing-extensions>=4.5.0 in c:\\users\\andre\\appdata\\local\\programs\\python\\python39\\lib\\site-packages (from replicate) (4.11.0)\n",
      "Requirement already satisfied: anyio in c:\\users\\andre\\appdata\\local\\programs\\python\\python39\\lib\\site-packages (from httpx<1,>=0.21.0->replicate) (4.2.0)\n",
      "Requirement already satisfied: certifi in c:\\users\\andre\\appdata\\local\\programs\\python\\python39\\lib\\site-packages (from httpx<1,>=0.21.0->replicate) (2021.10.8)\n",
      "Requirement already satisfied: httpcore==1.* in c:\\users\\andre\\appdata\\local\\programs\\python\\python39\\lib\\site-packages (from httpx<1,>=0.21.0->replicate) (1.0.2)\n",
      "Requirement already satisfied: idna in c:\\users\\andre\\appdata\\local\\programs\\python\\python39\\lib\\site-packages (from httpx<1,>=0.21.0->replicate) (3.3)\n",
      "Requirement already satisfied: sniffio in c:\\users\\andre\\appdata\\local\\programs\\python\\python39\\lib\\site-packages (from httpx<1,>=0.21.0->replicate) (1.3.0)\n",
      "Requirement already satisfied: h11<0.15,>=0.13 in c:\\users\\andre\\appdata\\local\\programs\\python\\python39\\lib\\site-packages (from httpcore==1.*->httpx<1,>=0.21.0->replicate) (0.14.0)\n",
      "Requirement already satisfied: annotated-types>=0.4.0 in c:\\users\\andre\\appdata\\local\\programs\\python\\python39\\lib\\site-packages (from pydantic>1.10.7->replicate) (0.7.0)\n",
      "Requirement already satisfied: pydantic-core==2.20.1 in c:\\users\\andre\\appdata\\local\\programs\\python\\python39\\lib\\site-packages (from pydantic>1.10.7->replicate) (2.20.1)\n",
      "Requirement already satisfied: exceptiongroup>=1.0.2 in c:\\users\\andre\\appdata\\roaming\\python\\python39\\site-packages (from anyio->httpx<1,>=0.21.0->replicate) (1.2.0)\n"
     ]
    },
    {
     "name": "stderr",
     "output_type": "stream",
     "text": [
      "WARNING: Ignoring invalid distribution -lotly (c:\\users\\andre\\appdata\\local\\programs\\python\\python39\\lib\\site-packages)\n",
      "WARNING: Ignoring invalid distribution -lotly (c:\\users\\andre\\appdata\\local\\programs\\python\\python39\\lib\\site-packages)\n",
      "\n",
      "[notice] A new release of pip is available: 24.0 -> 24.2\n",
      "[notice] To update, run: python.exe -m pip install --upgrade pip\n"
     ]
    },
    {
     "name": "stdout",
     "output_type": "stream",
     "text": [
      "Collecting monsterapi\n",
      "  Downloading monsterapi-1.0.9.2-py3-none-any.whl.metadata (5.5 kB)\n",
      "Requirement already satisfied: requests in c:\\users\\andre\\appdata\\local\\programs\\python\\python39\\lib\\site-packages (from monsterapi) (2.26.0)\n",
      "Requirement already satisfied: requests-toolbelt in c:\\users\\andre\\appdata\\local\\programs\\python\\python39\\lib\\site-packages (from monsterapi) (1.0.0)\n",
      "Requirement already satisfied: pydantic in c:\\users\\andre\\appdata\\local\\programs\\python\\python39\\lib\\site-packages (from monsterapi) (2.8.2)\n",
      "Requirement already satisfied: annotated-types>=0.4.0 in c:\\users\\andre\\appdata\\local\\programs\\python\\python39\\lib\\site-packages (from pydantic->monsterapi) (0.7.0)\n",
      "Requirement already satisfied: pydantic-core==2.20.1 in c:\\users\\andre\\appdata\\local\\programs\\python\\python39\\lib\\site-packages (from pydantic->monsterapi) (2.20.1)\n",
      "Requirement already satisfied: typing-extensions>=4.6.1 in c:\\users\\andre\\appdata\\local\\programs\\python\\python39\\lib\\site-packages (from pydantic->monsterapi) (4.11.0)\n",
      "Requirement already satisfied: urllib3<1.27,>=1.21.1 in c:\\users\\andre\\appdata\\local\\programs\\python\\python39\\lib\\site-packages (from requests->monsterapi) (1.26.7)\n",
      "Requirement already satisfied: certifi>=2017.4.17 in c:\\users\\andre\\appdata\\local\\programs\\python\\python39\\lib\\site-packages (from requests->monsterapi) (2021.10.8)\n",
      "Requirement already satisfied: charset-normalizer~=2.0.0 in c:\\users\\andre\\appdata\\local\\programs\\python\\python39\\lib\\site-packages (from requests->monsterapi) (2.0.7)\n",
      "Requirement already satisfied: idna<4,>=2.5 in c:\\users\\andre\\appdata\\local\\programs\\python\\python39\\lib\\site-packages (from requests->monsterapi) (3.3)\n",
      "Downloading monsterapi-1.0.9.2-py3-none-any.whl (29 kB)\n",
      "Installing collected packages: monsterapi\n",
      "Successfully installed monsterapi-1.0.9.2\n"
     ]
    },
    {
     "name": "stderr",
     "output_type": "stream",
     "text": [
      "WARNING: Ignoring invalid distribution -lotly (c:\\users\\andre\\appdata\\local\\programs\\python\\python39\\lib\\site-packages)\n",
      "WARNING: Ignoring invalid distribution -lotly (c:\\users\\andre\\appdata\\local\\programs\\python\\python39\\lib\\site-packages)\n",
      "\n",
      "[notice] A new release of pip is available: 24.0 -> 24.2\n",
      "[notice] To update, run: python.exe -m pip install --upgrade pip\n"
     ]
    }
   ],
   "source": [
    "! pip install -q -U google-generativeai\n",
    "! pip install python-dotenv\n",
    "# ! pip install replicate\n",
    "! pip install monsterapi"
   ]
  },
  {
   "cell_type": "markdown",
   "metadata": {},
   "source": [
    "## Importações"
   ]
  },
  {
   "cell_type": "code",
   "execution_count": 53,
   "metadata": {},
   "outputs": [],
   "source": [
    "import google.generativeai as genai\n",
    "import os\n",
    "from dotenv import load_dotenv\n",
    "import pathlib\n",
    "import json\n",
    "# import requests\n",
    "# import replicate\n",
    "from monsterapi import client"
   ]
  },
  {
   "cell_type": "markdown",
   "metadata": {},
   "source": [
    "### Carregar novas keys"
   ]
  },
  {
   "cell_type": "code",
   "execution_count": 54,
   "metadata": {},
   "outputs": [],
   "source": [
    "load_dotenv()\n",
    "API_KEY_GEMINI = os.environ[\"API_KEY_GEMINI\"]\n",
    "# API_KEY_PICOGEN = os.environ[\"API_KEY_PICOGEN\"]\n",
    "# API_KEY_REPLICATE = os.environ[\"API_KEY_REPLICATE\"]\n",
    "API_KEY_MONSTERAPI = os.environ['API_KEY_MONSTERAPI'] \n",
    "URL = os.environ[\"URL\"]"
   ]
  },
  {
   "cell_type": "markdown",
   "metadata": {},
   "source": [
    "# Modelo de linguagem natural (Gemini)\n",
    "\n",
    "[Configurações dos parametos do modelo Gemini](https://ai.google.dev/api/generate-content?hl=pt-br&_gl=1*1xoilmn*_up*MQ..&gclid=CjwKCAjwnqK1BhBvEiwAi7o0X-UtR0KIfbe442jjWITCEVbPnvyIoVKHza-lXABqZ-PB9mkL_1wk1hoCSH4QAvD_BwE#v1beta.GenerationConfig)"
   ]
  },
  {
   "cell_type": "code",
   "execution_count": 76,
   "metadata": {},
   "outputs": [],
   "source": [
    "# API e definição do modelo Gemini usado\n",
    "genai.configure(api_key=os.environ[\"API_KEY_GEMINI\"])\n",
    "model = genai.GenerativeModel(\n",
    "  'gemini-1.5-flash',\n",
    "  system_instruction=\"\"\"\n",
    "  Responda em Português; \n",
    "  Se tiver contas resolva; \n",
    "  Se tiver um desenho o descreva detalhadamente e de forma criativa;\n",
    "  \"\"\",\n",
    "  generation_config=genai.GenerationConfig(\n",
    "      max_output_tokens=1000,\n",
    "      temperature=0.5\n",
    "    )\n",
    "  )"
   ]
  },
  {
   "cell_type": "code",
   "execution_count": 77,
   "metadata": {},
   "outputs": [
    {
     "name": "stdout",
     "output_type": "stream",
     "text": [
      "A imagem mostra um desenho simples feito em um quadro branco transparente. O desenho representa um caminho sinuoso que serpenteia por um bosque com quatro árvores e duas flores. As árvores são desenhadas com um estilo infantil, com copas arredondadas e troncos finos. As flores são representadas por círculos com pétalas simples. O caminho é desenhado com uma linha contínua, dando a impressão de movimento e fluidez. A imagem é simples, mas evoca uma sensação de paz e tranquilidade, como se o observador estivesse caminhando por um bosque tranquilo. A luz que incide sobre o quadro branco cria sombras e reflexos que dão profundidade à imagem. \n",
      "\n"
     ]
    }
   ],
   "source": [
    "# Construção do prompt para API Gemini\n",
    "image = {\n",
    "    'mime_type': 'image/jpeg',\n",
    "    'data': pathlib.Path('images\\desenho2.jpg').read_bytes()\n",
    "}\n",
    "\n",
    "# Requisição Gemini\n",
    "response = model.generate_content(image)\n",
    "\n",
    "# Resposta Gemini\n",
    "print(response.text)"
   ]
  },
  {
   "cell_type": "markdown",
   "metadata": {},
   "source": [
    "## Referencias\n",
    "\n",
    "[Documentação](https://ai.google.dev/gemini-api/docs/text-generation?hl=pt-br&_gl=1*dq9d56*_up*MQ..&gclid=CjwKCAjwnqK1BhBvEiwAi7o0X-UtR0KIfbe442jjWITCEVbPnvyIoVKHza-lXABqZ-PB9mkL_1wk1hoCSH4QAvD_BwE&lang=python)"
   ]
  },
  {
   "cell_type": "markdown",
   "metadata": {},
   "source": [
    "# Replicate"
   ]
  },
  {
   "cell_type": "code",
   "execution_count": null,
   "metadata": {},
   "outputs": [],
   "source": [
    "# output = replicate.run(\n",
    "#   \"stability-ai/sdxl:r8_dT1Z0Idn9UyPgMvi9oWgsTaGJlSU5gZ2J96yH\",\n",
    "#   input={\"prompt\": \"an iguana on the beach, pointillism\"}\n",
    "# )\n",
    "\n",
    "# print(output)"
   ]
  },
  {
   "cell_type": "markdown",
   "metadata": {},
   "source": [
    "# MONSTERAPTI"
   ]
  },
  {
   "cell_type": "markdown",
   "metadata": {},
   "source": [
    "34 segundos"
   ]
  },
  {
   "cell_type": "code",
   "execution_count": 58,
   "metadata": {},
   "outputs": [],
   "source": [
    "monster_client = client(API_KEY_MONSTERAPI)"
   ]
  },
  {
   "cell_type": "code",
   "execution_count": 59,
   "metadata": {},
   "outputs": [
    {
     "name": "stdout",
     "output_type": "stream",
     "text": [
      "['https://processed-model-result.s3.us-east-2.amazonaws.com/76d1e6b3-e346-499d-ab4c-8633310c4d92_0.png', 'https://processed-model-result.s3.us-east-2.amazonaws.com/76d1e6b3-e346-499d-ab4c-8633310c4d92_1.png']\n"
     ]
    }
   ],
   "source": [
    "model = 'txt2img'\n",
    "input_data = {\n",
    "'prompt': f'{response.text}',\n",
    "'samples': 2,\n",
    "'steps': 50,\n",
    "'aspect_ratio': 'square',\n",
    "'guidance_scale': 7.5,\n",
    "'seed': 2414,\n",
    "}\n",
    "\n",
    "result = monster_client.generate(model, input_data)\n",
    "\n",
    "print(result['output'])"
   ]
  },
  {
   "cell_type": "markdown",
   "metadata": {},
   "source": [
    "# PICOGEN"
   ]
  },
  {
   "cell_type": "markdown",
   "metadata": {},
   "source": [
    "4 minutos"
   ]
  },
  {
   "cell_type": "code",
   "execution_count": 10,
   "metadata": {},
   "outputs": [
    {
     "data": {
      "text/plain": [
       "<Response [200]>"
      ]
     },
     "execution_count": 10,
     "metadata": {},
     "output_type": "execute_result"
    }
   ],
   "source": [
    "# api_url = 'https://api.picogen.io/v1/job/generate'\n",
    "\n",
    "# data = {\n",
    "#   \"prompt\": f\"{response.text}\",\n",
    "#   \"ratio\": \"1:1\",\n",
    "#   \"resolution\": \"1k\",\n",
    "#   \"steps\": 10,\n",
    "#   \"guidance\": 5.0\n",
    "# }\n",
    "\n",
    "# headers = {\n",
    "#   'Content-Type': 'application/json',\n",
    "#   'API-Token': API_KEY_PICOGEN\n",
    "# }\n",
    "\n",
    "# response = requests.post(api_url, json=data, headers=headers)\n",
    "\n",
    "\n",
    "# response"
   ]
  },
  {
   "cell_type": "markdown",
   "metadata": {},
   "source": [
    "# Definindo funções\n",
    "* GEMINI"
   ]
  },
  {
   "cell_type": "code",
   "execution_count": 124,
   "metadata": {},
   "outputs": [],
   "source": [
    "def Gemini(image):\n",
    "  image = {\n",
    "    'mime_type': 'image/jpeg',\n",
    "    'data': pathlib.Path(f'{image}').read_bytes()\n",
    "  }\n",
    "  \n",
    "  response = model.generate_content(image)\n",
    "  \n",
    "  return response.text"
   ]
  },
  {
   "cell_type": "markdown",
   "metadata": {},
   "source": [
    "* MONSTERAPI"
   ]
  },
  {
   "cell_type": "code",
   "execution_count": 132,
   "metadata": {},
   "outputs": [],
   "source": [
    "def Monsterapi(response):\n",
    "  monster_client = client(API_KEY_MONSTERAPI)\n",
    "  model = 'txt2img'\n",
    "  input_data = {\n",
    "  'prompt': f'{response}',\n",
    "  'safe_filter': True,\n",
    "  'samples': 1,\n",
    "  'steps': 50,\n",
    "  'aspect_ratio': 'square',\n",
    "  'guidance_scale': 7.5,\n",
    "  'seed': 2414,\n",
    "  'style': 'anime'\n",
    "  }\n",
    "\n",
    "  result = monster_client.generate(model, input_data)\n",
    "\n",
    "  return result['output']\n"
   ]
  },
  {
   "cell_type": "markdown",
   "metadata": {},
   "source": [
    "* CONTEUDO"
   ]
  },
  {
   "cell_type": "code",
   "execution_count": 126,
   "metadata": {},
   "outputs": [],
   "source": [
    "def Conteudo_text(response):\n",
    "  conteudo = {\"response\": f\"{response}\"}\n",
    "  return conteudo"
   ]
  },
  {
   "cell_type": "code",
   "execution_count": 127,
   "metadata": {},
   "outputs": [],
   "source": [
    "def Conteudo_img(response):\n",
    "  conteudo = {\"response\": f\"{response}\"}\n",
    "  return conteudo"
   ]
  },
  {
   "cell_type": "markdown",
   "metadata": {},
   "source": [
    "* JSON"
   ]
  },
  {
   "cell_type": "code",
   "execution_count": 128,
   "metadata": {},
   "outputs": [],
   "source": [
    "def JSON(conteudo):\n",
    "  with open(\"dados.json\", \"w\", encoding=\"utf-8\") as json_conteudo:\n",
    "    json.dump(conteudo, json_conteudo, ensure_ascii=False, indent=4)\n"
   ]
  },
  {
   "cell_type": "markdown",
   "metadata": {},
   "source": [
    "* TESTE FINAL"
   ]
  },
  {
   "cell_type": "code",
   "execution_count": 133,
   "metadata": {},
   "outputs": [
    {
     "name": "stdout",
     "output_type": "stream",
     "text": [
      "{'response': \"['https://processed-model-result.s3.us-east-2.amazonaws.com/99fcb169-26dd-415b-8172-2ca825b1b329_0.png']\"}\n"
     ]
    }
   ],
   "source": [
    "image = 'images\\desenho.jpg'\n",
    "\n",
    "response = Gemini(image)\n",
    "\n",
    "if \"desenho\" in response:\n",
    "  url = Monsterapi(response)\n",
    "  conteudo = Conteudo_text(url)\n",
    "  JSON(conteudo)\n",
    "elif \"desenho\" not in response:\n",
    "  conteudo = Conteudo_text(response)\n",
    "  JSON(conteudo)\n",
    "else:\n",
    "  print(\"ERROR BATATA!!!!\")\n",
    "  \n",
    "with open('dados.json', 'r', encoding=\"utf-8\") as json_file:\n",
    "  resposta = json.load(json_file)\n",
    "  \n",
    "print(resposta)"
   ]
  }
 ],
 "metadata": {
  "kernelspec": {
   "display_name": "Python 3",
   "language": "python",
   "name": "python3"
  },
  "language_info": {
   "codemirror_mode": {
    "name": "ipython",
    "version": 3
   },
   "file_extension": ".py",
   "mimetype": "text/x-python",
   "name": "python",
   "nbconvert_exporter": "python",
   "pygments_lexer": "ipython3",
   "version": "3.9.7"
  }
 },
 "nbformat": 4,
 "nbformat_minor": 2
}
