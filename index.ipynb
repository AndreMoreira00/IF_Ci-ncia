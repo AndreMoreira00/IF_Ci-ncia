{
 "cells": [
  {
   "cell_type": "markdown",
   "metadata": {},
   "source": [
    "# IF Ciência"
   ]
  },
  {
   "cell_type": "markdown",
   "metadata": {},
   "source": [
    "## Bibliotecas instaladas"
   ]
  },
  {
   "cell_type": "code",
   "execution_count": 1,
   "metadata": {},
   "outputs": [
    {
     "name": "stderr",
     "output_type": "stream",
     "text": [
      "WARNING: Ignoring invalid distribution -lotly (c:\\users\\andre\\appdata\\local\\programs\\python\\python39\\lib\\site-packages)\n",
      "WARNING: Ignoring invalid distribution -lotly (c:\\users\\andre\\appdata\\local\\programs\\python\\python39\\lib\\site-packages)\n",
      "\n",
      "[notice] A new release of pip is available: 24.0 -> 24.1.2\n",
      "[notice] To update, run: python.exe -m pip install --upgrade pip\n"
     ]
    },
    {
     "name": "stdout",
     "output_type": "stream",
     "text": [
      "Requirement already satisfied: python-dotenv in c:\\users\\andre\\appdata\\local\\programs\\python\\python39\\lib\\site-packages (1.0.1)\n"
     ]
    },
    {
     "name": "stderr",
     "output_type": "stream",
     "text": [
      "WARNING: Ignoring invalid distribution -lotly (c:\\users\\andre\\appdata\\local\\programs\\python\\python39\\lib\\site-packages)\n",
      "WARNING: Ignoring invalid distribution -lotly (c:\\users\\andre\\appdata\\local\\programs\\python\\python39\\lib\\site-packages)\n",
      "\n",
      "[notice] A new release of pip is available: 24.0 -> 24.1.2\n",
      "[notice] To update, run: python.exe -m pip install --upgrade pip\n"
     ]
    }
   ],
   "source": [
    "! pip install -q -U google-generativeai\n",
    "! pip install python-dotenv"
   ]
  },
  {
   "cell_type": "markdown",
   "metadata": {},
   "source": [
    "## Importações"
   ]
  },
  {
   "cell_type": "code",
   "execution_count": 2,
   "metadata": {},
   "outputs": [
    {
     "name": "stderr",
     "output_type": "stream",
     "text": [
      "c:\\Users\\andre\\AppData\\Local\\Programs\\Python\\Python39\\lib\\site-packages\\requests\\__init__.py:102: RequestsDependencyWarning: urllib3 (1.26.7) or chardet (5.2.0)/charset_normalizer (2.0.7) doesn't match a supported version!\n",
      "  warnings.warn(\"urllib3 ({}) or chardet ({})/charset_normalizer ({}) doesn't match a supported \"\n"
     ]
    }
   ],
   "source": [
    "import google.generativeai as genai\n",
    "import os\n",
    "from dotenv import load_dotenv\n",
    "import pathlib"
   ]
  },
  {
   "cell_type": "markdown",
   "metadata": {},
   "source": [
    "### Carregar novas keys"
   ]
  },
  {
   "cell_type": "code",
   "execution_count": 3,
   "metadata": {},
   "outputs": [],
   "source": [
    "load_dotenv()\n",
    "API_KEY = os.environ[\"API_KEY\"]\n",
    "URL = os.environ[\"URL\"]"
   ]
  },
  {
   "cell_type": "markdown",
   "metadata": {},
   "source": [
    "# Modelo de linguagem natural (Gemini)\n",
    "\n",
    "[Configurações dos parametos do modelo Gemini](https://ai.google.dev/api/generate-content?hl=pt-br&_gl=1*1xoilmn*_up*MQ..&gclid=CjwKCAjwnqK1BhBvEiwAi7o0X-UtR0KIfbe442jjWITCEVbPnvyIoVKHza-lXABqZ-PB9mkL_1wk1hoCSH4QAvD_BwE#v1beta.GenerationConfig)"
   ]
  },
  {
   "cell_type": "code",
   "execution_count": 18,
   "metadata": {},
   "outputs": [],
   "source": [
    "# API e definição do modelo Gemini usado\n",
    "genai.configure(api_key=os.environ[\"API_KEY\"])\n",
    "model = genai.GenerativeModel(\n",
    "  'gemini-1.5-flash',\n",
    "  system_instruction=\"Responda em Português; Reponda com um código Html; Se tiver contas resolva; Se tiver textos me fale mais sobre o assunto;\",\n",
    "  generation_config=genai.GenerationConfig(\n",
    "        temperature=0.5,\n",
    "    )\n",
    "  )"
   ]
  },
  {
   "cell_type": "code",
   "execution_count": 25,
   "metadata": {},
   "outputs": [
    {
     "name": "stdout",
     "output_type": "stream",
     "text": [
      "A imagem mostra um desenho simples de um boneco de palito em uma parede branca. O boneco de palito tem uma cabeça redonda, um corpo fino, braços e pernas. O desenho é feito com um traço simples e parece ter sido feito com um lápis ou caneta. A parede é branca e lisa, com algumas marcas de sujeira ou arranhões. O desenho está localizado no centro da imagem, e a parede está ligeiramente inclinada para a direita. \n",
      "\n",
      "A imagem é simples, mas evoca uma sensação de simplicidade e inocência. O desenho do boneco de palito é um símbolo universal de infância e criatividade. A parede branca serve como um fundo neutro que permite que o desenho se destaque. \n",
      "\n",
      "A imagem pode ser interpretada de várias maneiras. Pode ser vista como uma representação de uma criança, ou como um símbolo de esperança e positividade. Também pode ser interpretada como uma lembrança de um momento simples e feliz. \n",
      "\n",
      "A imagem é uma lembrança de que a criatividade e a imaginação são importantes em todas as idades. É uma imagem que pode trazer um sorriso ao rosto de qualquer pessoa. \n",
      "\n"
     ]
    }
   ],
   "source": [
    "# Construção do prompt para API Gemini\n",
    "image = {\n",
    "    'mime_type': 'image/jpeg',\n",
    "    'data': pathlib.Path('images\\desenho.jpg').read_bytes()\n",
    "}\n",
    "\n",
    "\n",
    "# Requisição Gemini\n",
    "response = model.generate_content(image)\n",
    "\n",
    "# Resposta Gemini\n",
    "print(response.text)"
   ]
  },
  {
   "cell_type": "markdown",
   "metadata": {},
   "source": [
    "## Referencias\n",
    "\n",
    "[Documentação](https://ai.google.dev/gemini-api/docs/text-generation?hl=pt-br&_gl=1*dq9d56*_up*MQ..&gclid=CjwKCAjwnqK1BhBvEiwAi7o0X-UtR0KIfbe442jjWITCEVbPnvyIoVKHza-lXABqZ-PB9mkL_1wk1hoCSH4QAvD_BwE&lang=python)"
   ]
  }
 ],
 "metadata": {
  "kernelspec": {
   "display_name": "Python 3",
   "language": "python",
   "name": "python3"
  },
  "language_info": {
   "codemirror_mode": {
    "name": "ipython",
    "version": 3
   },
   "file_extension": ".py",
   "mimetype": "text/x-python",
   "name": "python",
   "nbconvert_exporter": "python",
   "pygments_lexer": "ipython3",
   "version": "3.9.7"
  }
 },
 "nbformat": 4,
 "nbformat_minor": 2
}
