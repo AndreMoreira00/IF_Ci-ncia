{
 "cells": [
  {
   "cell_type": "markdown",
   "metadata": {},
   "source": [
    "# IF Ciência"
   ]
  },
  {
   "cell_type": "markdown",
   "metadata": {},
   "source": [
    "## Bibliotecas instaladas"
   ]
  },
  {
   "cell_type": "code",
   "execution_count": 1,
   "metadata": {},
   "outputs": [
    {
     "name": "stderr",
     "output_type": "stream",
     "text": [
      "WARNING: Ignoring invalid distribution -lotly (c:\\users\\andre\\appdata\\local\\programs\\python\\python39\\lib\\site-packages)\n",
      "WARNING: Ignoring invalid distribution -lotly (c:\\users\\andre\\appdata\\local\\programs\\python\\python39\\lib\\site-packages)\n",
      "\n",
      "[notice] A new release of pip is available: 24.0 -> 24.1.2\n",
      "[notice] To update, run: python.exe -m pip install --upgrade pip\n"
     ]
    },
    {
     "name": "stdout",
     "output_type": "stream",
     "text": [
      "Requirement already satisfied: python-dotenv in c:\\users\\andre\\appdata\\local\\programs\\python\\python39\\lib\\site-packages (1.0.1)\n"
     ]
    },
    {
     "name": "stderr",
     "output_type": "stream",
     "text": [
      "WARNING: Ignoring invalid distribution -lotly (c:\\users\\andre\\appdata\\local\\programs\\python\\python39\\lib\\site-packages)\n",
      "WARNING: Ignoring invalid distribution -lotly (c:\\users\\andre\\appdata\\local\\programs\\python\\python39\\lib\\site-packages)\n",
      "\n",
      "[notice] A new release of pip is available: 24.0 -> 24.1.2\n",
      "[notice] To update, run: python.exe -m pip install --upgrade pip\n"
     ]
    }
   ],
   "source": [
    "! pip install -q -U google-generativeai\n",
    "! pip install python-dotenv"
   ]
  },
  {
   "cell_type": "markdown",
   "metadata": {},
   "source": [
    "## Importações"
   ]
  },
  {
   "cell_type": "code",
   "execution_count": 43,
   "metadata": {},
   "outputs": [],
   "source": [
    "import google.generativeai as genai\n",
    "import os\n",
    "from dotenv import load_dotenv\n",
    "import pathlib\n",
    "import json\n",
    "import requests"
   ]
  },
  {
   "cell_type": "markdown",
   "metadata": {},
   "source": [
    "### Carregar novas keys"
   ]
  },
  {
   "cell_type": "code",
   "execution_count": 44,
   "metadata": {},
   "outputs": [],
   "source": [
    "load_dotenv()\n",
    "API_KEY_GEMINI = os.environ[\"API_KEY_GEMINI\"]\n",
    "API_KEY_PICOGEN = os.environ[\"API_KEY_PICOGEN\"]\n",
    "URL = os.environ[\"URL\"]"
   ]
  },
  {
   "cell_type": "markdown",
   "metadata": {},
   "source": [
    "# Modelo de linguagem natural (Gemini)\n",
    "\n",
    "[Configurações dos parametos do modelo Gemini](https://ai.google.dev/api/generate-content?hl=pt-br&_gl=1*1xoilmn*_up*MQ..&gclid=CjwKCAjwnqK1BhBvEiwAi7o0X-UtR0KIfbe442jjWITCEVbPnvyIoVKHza-lXABqZ-PB9mkL_1wk1hoCSH4QAvD_BwE#v1beta.GenerationConfig)"
   ]
  },
  {
   "cell_type": "code",
   "execution_count": 45,
   "metadata": {},
   "outputs": [],
   "source": [
    "# API e definição do modelo Gemini usado\n",
    "genai.configure(api_key=os.environ[\"API_KEY_GEMINI\"])\n",
    "model = genai.GenerativeModel(\n",
    "  'gemini-1.5-flash',\n",
    "  system_instruction=\"Responda em Português; Se tiver contas resolva; Se tiver textos me fale mais sobre o assunto;\",\n",
    "  generation_config=genai.GenerationConfig(\n",
    "      max_output_tokens=1000,\n",
    "      temperature=0.5\n",
    "    )\n",
    "  )"
   ]
  },
  {
   "cell_type": "code",
   "execution_count": 46,
   "metadata": {},
   "outputs": [
    {
     "name": "stdout",
     "output_type": "stream",
     "text": [
      "A imagem mostra um desenho simples de um boneco de palito feito em uma parede branca. O desenho é feito com um traço fino e preto. O boneco está de braços abertos e com uma cabeça redonda. A imagem é simples, mas evoca uma sensação de simplicidade e inocência. \n",
      "\n"
     ]
    }
   ],
   "source": [
    "# Construção do prompt para API Gemini\n",
    "image = {\n",
    "    'mime_type': 'image/jpeg',\n",
    "    'data': pathlib.Path('images\\desenho.jpg').read_bytes()\n",
    "}\n",
    "\n",
    "# Requisição Gemini\n",
    "response = model.generate_content(image)\n",
    "\n",
    "# Resposta Gemini\n",
    "print(response.text)"
   ]
  },
  {
   "cell_type": "markdown",
   "metadata": {},
   "source": [
    "## Referencias\n",
    "\n",
    "[Documentação](https://ai.google.dev/gemini-api/docs/text-generation?hl=pt-br&_gl=1*dq9d56*_up*MQ..&gclid=CjwKCAjwnqK1BhBvEiwAi7o0X-UtR0KIfbe442jjWITCEVbPnvyIoVKHza-lXABqZ-PB9mkL_1wk1hoCSH4QAvD_BwE&lang=python)"
   ]
  },
  {
   "cell_type": "markdown",
   "metadata": {},
   "source": [
    "# PICOGEN"
   ]
  },
  {
   "cell_type": "code",
   "execution_count": 49,
   "metadata": {},
   "outputs": [
    {
     "data": {
      "text/plain": [
       "<Response [200]>"
      ]
     },
     "execution_count": 49,
     "metadata": {},
     "output_type": "execute_result"
    }
   ],
   "source": [
    "api_url = 'https://api.picogen.io/v1/job/generate'\n",
    "\n",
    "data = {\n",
    "  \"prompt\": f\"{response.text}\",\n",
    "  \"ratio\": \"16:9\",\n",
    "  \"resolution\": \"2k\",\n",
    "  \"steps\": 20,\n",
    "  \"guidance\": 4.5\n",
    "}\n",
    "\n",
    "headers = {\n",
    "  'Content-Type': 'application/json',\n",
    "  'API-Token': API_KEY_PICOGEN\n",
    "}\n",
    "\n",
    "response = requests.post(api_url, json=data, headers=headers)\n",
    "\n",
    "\n",
    "response"
   ]
  },
  {
   "cell_type": "markdown",
   "metadata": {},
   "source": [
    "# Definindo funções\n",
    "* GEMINI"
   ]
  },
  {
   "cell_type": "code",
   "execution_count": 15,
   "metadata": {},
   "outputs": [],
   "source": [
    "def Gemini(image):\n",
    "  image = {\n",
    "    'mime_type': 'image/jpeg',\n",
    "    'data': pathlib.Path(f'{image}').read_bytes()\n",
    "  }\n",
    "  \n",
    "  response = model.generate_content(image)\n",
    "  \n",
    "  return response"
   ]
  },
  {
   "cell_type": "markdown",
   "metadata": {},
   "source": [
    "* PICOGEN"
   ]
  },
  {
   "cell_type": "code",
   "execution_count": null,
   "metadata": {},
   "outputs": [],
   "source": []
  },
  {
   "cell_type": "markdown",
   "metadata": {},
   "source": [
    "* CONTEUDO"
   ]
  },
  {
   "cell_type": "code",
   "execution_count": 16,
   "metadata": {},
   "outputs": [],
   "source": [
    "def Conteudo(response):\n",
    "  conteudo = {\"response\": f\"{response}\"}\n",
    "  return conteudo"
   ]
  },
  {
   "cell_type": "markdown",
   "metadata": {},
   "source": [
    "* JSON"
   ]
  },
  {
   "cell_type": "code",
   "execution_count": 17,
   "metadata": {},
   "outputs": [],
   "source": [
    "def JSON(conteudo):\n",
    "  with open(\"dados.json\", \"w\", encoding=\"utf-8\") as json_conteudo:\n",
    "    json.dump(conteudo, json_conteudo, ensure_ascii=False, indent=4)\n"
   ]
  },
  {
   "cell_type": "markdown",
   "metadata": {},
   "source": [
    "* TESTE FINAL"
   ]
  },
  {
   "cell_type": "code",
   "execution_count": 35,
   "metadata": {},
   "outputs": [
    {
     "name": "stdout",
     "output_type": "stream",
     "text": [
      "{'response': 'A imagem mostra a equação matemática 1 + 1 = ?. A resposta é 2. \\n'}\n"
     ]
    }
   ],
   "source": [
    "image = \"images\\conta.jpg\"\n",
    "\n",
    "response = Gemini(image)\n",
    "conteudo = Conteudo(response.text)\n",
    "JSON(conteudo)\n",
    "\n",
    "with open('dados.json', 'r', encoding=\"utf-8\") as json_file:\n",
    "  resposta = json.load(json_file)\n",
    "  \n",
    "print(resposta)"
   ]
  }
 ],
 "metadata": {
  "kernelspec": {
   "display_name": "Python 3",
   "language": "python",
   "name": "python3"
  },
  "language_info": {
   "codemirror_mode": {
    "name": "ipython",
    "version": 3
   },
   "file_extension": ".py",
   "mimetype": "text/x-python",
   "name": "python",
   "nbconvert_exporter": "python",
   "pygments_lexer": "ipython3",
   "version": "3.9.7"
  }
 },
 "nbformat": 4,
 "nbformat_minor": 2
}
