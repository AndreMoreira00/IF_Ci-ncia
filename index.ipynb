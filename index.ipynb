{
 "cells": [
  {
   "cell_type": "markdown",
   "metadata": {},
   "source": [
    "# IF Ciência"
   ]
  },
  {
   "cell_type": "markdown",
   "metadata": {},
   "source": [
    "## Bibliotecas instaladas"
   ]
  },
  {
   "cell_type": "code",
   "execution_count": 29,
   "metadata": {},
   "outputs": [
    {
     "name": "stdout",
     "output_type": "stream",
     "text": [
      "Requirement already satisfied: pytesseract in c:\\users\\andre\\appdata\\local\\programs\\python\\python39\\lib\\site-packages (0.3.10)\n",
      "Requirement already satisfied: packaging>=21.3 in c:\\users\\andre\\appdata\\local\\programs\\python\\python39\\lib\\site-packages (from pytesseract) (23.1)\n",
      "Requirement already satisfied: Pillow>=8.0.0 in c:\\users\\andre\\appdata\\local\\programs\\python\\python39\\lib\\site-packages (from pytesseract) (8.2.0)\n"
     ]
    },
    {
     "name": "stderr",
     "output_type": "stream",
     "text": [
      "WARNING: Ignoring invalid distribution -lotly (c:\\users\\andre\\appdata\\local\\programs\\python\\python39\\lib\\site-packages)\n",
      "WARNING: Ignoring invalid distribution -lotly (c:\\users\\andre\\appdata\\local\\programs\\python\\python39\\lib\\site-packages)\n",
      "\n",
      "[notice] A new release of pip is available: 24.0 -> 24.1.2\n",
      "[notice] To update, run: python.exe -m pip install --upgrade pip\n",
      "WARNING: Ignoring invalid distribution -lotly (c:\\users\\andre\\appdata\\local\\programs\\python\\python39\\lib\\site-packages)\n",
      "WARNING: Ignoring invalid distribution -lotly (c:\\users\\andre\\appdata\\local\\programs\\python\\python39\\lib\\site-packages)\n",
      "\n",
      "[notice] A new release of pip is available: 24.0 -> 24.1.2\n",
      "[notice] To update, run: python.exe -m pip install --upgrade pip\n"
     ]
    },
    {
     "name": "stdout",
     "output_type": "stream",
     "text": [
      "Requirement already satisfied: python-dotenv in c:\\users\\andre\\appdata\\local\\programs\\python\\python39\\lib\\site-packages (1.0.1)\n"
     ]
    },
    {
     "name": "stderr",
     "output_type": "stream",
     "text": [
      "WARNING: Ignoring invalid distribution -lotly (c:\\users\\andre\\appdata\\local\\programs\\python\\python39\\lib\\site-packages)\n",
      "WARNING: Ignoring invalid distribution -lotly (c:\\users\\andre\\appdata\\local\\programs\\python\\python39\\lib\\site-packages)\n",
      "\n",
      "[notice] A new release of pip is available: 24.0 -> 24.1.2\n",
      "[notice] To update, run: python.exe -m pip install --upgrade pip\n"
     ]
    }
   ],
   "source": [
    "! pip install -q -U google-generativeai\n",
    "! pip install python-dotenv"
   ]
  },
  {
   "cell_type": "markdown",
   "metadata": {},
   "source": [
    "## Importações"
   ]
  },
  {
   "cell_type": "code",
   "execution_count": 43,
   "metadata": {},
   "outputs": [],
   "source": [
    "import google.generativeai as genai\n",
    "import os\n",
    "from dotenv import load_dotenv\n",
    "import pathlib"
   ]
  },
  {
   "cell_type": "markdown",
   "metadata": {},
   "source": [
    "### Carregar novas keys"
   ]
  },
  {
   "cell_type": "code",
   "execution_count": 33,
   "metadata": {},
   "outputs": [],
   "source": [
    "load_dotenv()\n",
    "API_KEY = os.environ[\"API_KEY\"]\n",
    "URL = os.environ[\"URL\"]"
   ]
  },
  {
   "cell_type": "markdown",
   "metadata": {},
   "source": [
    "# Modelo de linguagem natural (Gemini)"
   ]
  },
  {
   "cell_type": "code",
   "execution_count": 36,
   "metadata": {},
   "outputs": [],
   "source": [
    "# API e definição do modelo Gemini usado\n",
    "genai.configure(api_key=os.environ[\"API_KEY\"])\n",
    "model = genai.GenerativeModel('gemini-1.5-flash')"
   ]
  },
  {
   "cell_type": "code",
   "execution_count": 44,
   "metadata": {},
   "outputs": [
    {
     "name": "stdout",
     "output_type": "stream",
     "text": [
      "\"Tropa de Elite\" é um filme brasileiro de ação e drama, lançado em 2007. O filme, dirigido por José Padilha, é uma crítica contundente à violência e à corrupção na sociedade brasileira, retratando a realidade brutal da polícia militar do Rio de Janeiro. \n",
      "\n",
      "O filme foi um grande sucesso de público e crítica, recebendo diversos prêmios e sendo elogiado por sua direção, roteiro e atuação. \"Tropa de Elite\" gerou uma série de discussões sobre a segurança pública no Brasil e lançou um debate sobre os métodos utilizados pela polícia para combater o crime organizado. \n",
      "\n",
      "O filme também lançou a carreira do ator Wagner Moura, que interpreta o personagem principal, o Capitão Nascimento, um policial de elite que se encontra em um dilema moral ao lidar com a violência e a corrupção. A atuação de Moura é considerada uma das melhores da história do cinema brasileiro.\n",
      "\n",
      "A história do filme acompanha o Capitão Nascimento em sua missão de treinar uma nova turma de soldados para o Batalhão de Operações Policiais Especiais (BOPE), a unidade de elite da polícia militar do Rio de Janeiro. A trama explora as diversas formas de violência que o grupo enfrenta no dia a dia, desde o tráfico de drogas até a corrupção policial, com um realismo cru e impactante. \n",
      "\n",
      "A crítica social e a violência gráfica do filme geraram polêmica, com alguns argumentando que ele glorifica a violência e outros defendendo sua importância como um retrato da realidade brasileira. \n",
      "\n",
      "\"Tropa de Elite\" é considerado um dos filmes mais importantes do cinema brasileiro, sendo reconhecido por sua qualidade técnica e por ter aberto um debate crucial sobre a segurança pública no país.\n",
      "\n"
     ]
    }
   ],
   "source": [
    "# Construção do prompt para API Gemini\n",
    "image = {\n",
    "    'mime_type': 'image/jpeg',\n",
    "    'data': pathlib.Path('TropaDeElitePoster.jpg').read_bytes()\n",
    "}\n",
    "\n",
    "prompt = \"\"\"\n",
    "Responda em Português;\n",
    "Se tiver contas resolva;\n",
    "Se tiver textos me fale mais sobre o assunto;\n",
    "\"\"\"\n",
    "\n",
    "# Requisição Gemini\n",
    "response = model.generate_content([prompt, image])\n",
    "\n",
    "# Resposta Gemini\n",
    "print(response.text)"
   ]
  },
  {
   "cell_type": "markdown",
   "metadata": {},
   "source": [
    "## Referencias\n",
    "\n",
    "[Documentação](https://ai.google.dev/gemini-api/docs/text-generation?hl=pt-br&_gl=1*dq9d56*_up*MQ..&gclid=CjwKCAjwnqK1BhBvEiwAi7o0X-UtR0KIfbe442jjWITCEVbPnvyIoVKHza-lXABqZ-PB9mkL_1wk1hoCSH4QAvD_BwE&lang=python)"
   ]
  }
 ],
 "metadata": {
  "kernelspec": {
   "display_name": "Python 3",
   "language": "python",
   "name": "python3"
  },
  "language_info": {
   "codemirror_mode": {
    "name": "ipython",
    "version": 3
   },
   "file_extension": ".py",
   "mimetype": "text/x-python",
   "name": "python",
   "nbconvert_exporter": "python",
   "pygments_lexer": "ipython3",
   "version": "3.9.7"
  }
 },
 "nbformat": 4,
 "nbformat_minor": 2
}
